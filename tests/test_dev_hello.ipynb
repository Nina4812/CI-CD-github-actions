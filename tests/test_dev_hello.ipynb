{
 "cells": [
  {
   "cell_type": "code",
   "execution_count": 0,
   "metadata": {
    "application/vnd.databricks.v1+cell": {
     "cellMetadata": {
      "byteLimit": 2048000,
      "rowLimit": 10000
     },
     "inputWidgets": {},
     "nuid": "f02c96c2-1f2f-4bcf-8ecc-db797f377a94",
     "showTitle": false,
     "tableResultSettingsMap": {},
     "title": ""
    }
   },
   "outputs": [],
   "source": [
    "%pip install pytest"
   ]
  },
  {
   "cell_type": "code",
   "execution_count": 0,
   "metadata": {
    "application/vnd.databricks.v1+cell": {
     "cellMetadata": {
      "byteLimit": 2048000,
      "rowLimit": 10000
     },
     "inputWidgets": {},
     "nuid": "b267c74d-a8c5-4734-84e5-1c72f01a7a22",
     "showTitle": false,
     "tableResultSettingsMap": {},
     "title": ""
    }
   },
   "outputs": [],
   "source": [
    "from pyspark.sql import SparkSession\n",
    "import pytest\n",
    "\n",
    "@pytest.fixture(scope=\"module\")\n",
    "def spark():\n",
    "    return SparkSession.builder.appName(\"QA Notebook Test\").getOrCreate()\n",
    "\n",
    "def test_table_exists_and_readable(spark):\n",
    "    try:\n",
    "        df = spark.read.table(\"samples.bakehouse.sales_suppliers\")\n",
    "        assert df.count() > 0, \"Table is empty\"\n",
    "        assert \"supplier_id\" in df.columns, \"Expected column not found\"\n",
    "        print(\"✅ Table read successfully\")\n",
    "    except Exception as e:\n",
    "        pytest.fail(f\"❌ Could not read table: {e}\")\n"
   ]
  }
 ],
 "metadata": {
  "application/vnd.databricks.v1+notebook": {
   "computePreferences": null,
   "dashboards": [],
   "environmentMetadata": {
    "base_environment": "",
    "environment_version": "2"
   },
   "inputWidgetPreferences": null,
   "language": "python",
   "notebookMetadata": {
    "pythonIndentUnit": 4
   },
   "notebookName": "test_dev_hello",
   "widgets": {}
  },
  "language_info": {
   "name": "python"
  }
 },
 "nbformat": 4,
 "nbformat_minor": 0
}
