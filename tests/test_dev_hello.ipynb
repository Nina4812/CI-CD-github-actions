{
 "cells": [
  {
   "cell_type": "code",
   "execution_count": 0,
   "metadata": {
    "application/vnd.databricks.v1+cell": {
     "cellMetadata": {
      "byteLimit": 2048000,
      "rowLimit": 10000
     },
     "inputWidgets": {},
     "nuid": "b267c74d-a8c5-4734-84e5-1c72f01a7a22",
     "showTitle": false,
     "tableResultSettingsMap": {},
     "title": ""
    }
   },
   "outputs": [],
   "source": [
    "from unittest.mock import MagicMock\n",
    "\n",
    "def test_table_mocked():\n",
    "    spark = MagicMock()\n",
    "    df = MagicMock()\n",
    "    spark.read.table.return_value = df\n",
    "    df.count.return_value = 10\n",
    "    df.columns = [\"supplier_id\", \"name\"]\n",
    "\n",
    "    result = df.count()\n",
    "    assert result > 0\n",
    "    assert \"supplier_id\" in df.columns\n"
   ]
  }
 ],
 "metadata": {
  "application/vnd.databricks.v1+notebook": {
   "computePreferences": null,
   "dashboards": [],
   "environmentMetadata": {
    "base_environment": "",
    "environment_version": "2"
   },
   "inputWidgetPreferences": null,
   "language": "python",
   "notebookMetadata": {
    "pythonIndentUnit": 4
   },
   "notebookName": "test_dev_hello",
   "widgets": {}
  },
  "language_info": {
   "name": "python"
  }
 },
 "nbformat": 4,
 "nbformat_minor": 0
}
